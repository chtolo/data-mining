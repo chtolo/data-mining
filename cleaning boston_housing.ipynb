{
  "nbformat": 4,
  "nbformat_minor": 0,
  "metadata": {
    "colab": {
      "provenance": []
    },
    "kernelspec": {
      "name": "python3",
      "display_name": "Python 3"
    },
    "language_info": {
      "name": "python"
    }
  },
  "cells": [
    {
      "cell_type": "code",
      "source": [
        "import pandas as pd\n",
        "import numpy as np"
      ],
      "metadata": {
        "id": "hS7lrRiPsn7D"
      },
      "execution_count": 1,
      "outputs": []
    },
    {
      "cell_type": "code",
      "source": [
        "# Lire le fichier CSV à partir de GitHub en utilisant l'URL brute\n",
        "url = 'https://raw.githubusercontent.com/chtolo/data-mining/main/boston-housing.csv'\n",
        "boston_housing = pd.read_csv(url)\n",
        "\n",
        "# Afficher les premières lignes du DataFrame pour vérification\n",
        "print(boston_housing.head())\n"
      ],
      "metadata": {
        "colab": {
          "base_uri": "https://localhost:8080/"
        },
        "id": "qXgggXG1sqif",
        "outputId": "ca33368a-5f39-40ed-cd77-1178cc3333e3"
      },
      "execution_count": 12,
      "outputs": [
        {
          "output_type": "stream",
          "name": "stdout",
          "text": [
            "      crim    zn  indus  chas    nox     rm   age     dis  rad  tax  ptratio  \\\n",
            "0  0.00632  18.0   2.31     0  0.538  6.575  none  4.0900    1  ***     15.3   \n",
            "1  0.00632  18.0   2.31     0  0.538  6.575  none  4.0900    1  ***     15.3   \n",
            "2  0.00632  18.0   2.31     0  0.538  6.575  none  4.0900    1  ***     15.3   \n",
            "3  0.02731   0.0   7.07     0  0.469  6.421  1000  4.9671    2  242     17.8   \n",
            "4  0.02729   0.0   7.07     0  0.469  7.185  61.1  4.9671    2  242     17.8   \n",
            "\n",
            "        b  lstat     medv  \n",
            "0  396.90   4.98     none  \n",
            "1  396.90   4.98     none  \n",
            "2  396.90   4.98     none  \n",
            "3  396.90   9.14     none  \n",
            "4  392.83   4.03  34.7 m$  \n"
          ]
        }
      ]
    },
    {
      "cell_type": "code",
      "source": [
        "boston_housing.shape   #Dimensions of the Dataframe"
      ],
      "metadata": {
        "colab": {
          "base_uri": "https://localhost:8080/"
        },
        "id": "BNnfNVw9vq14",
        "outputId": "f9a2d08f-2da3-4d5b-cb96-bb5216ac956d"
      },
      "execution_count": 13,
      "outputs": [
        {
          "output_type": "execute_result",
          "data": {
            "text/plain": [
              "(512, 14)"
            ]
          },
          "metadata": {},
          "execution_count": 13
        }
      ]
    },
    {
      "cell_type": "code",
      "source": [
        "boston_housing.dtypes"
      ],
      "metadata": {
        "colab": {
          "base_uri": "https://localhost:8080/"
        },
        "id": "87K_aB0Rv4Fp",
        "outputId": "ebbb624d-1d42-4b97-b33e-257b742875ca"
      },
      "execution_count": 14,
      "outputs": [
        {
          "output_type": "execute_result",
          "data": {
            "text/plain": [
              "crim       float64\n",
              "zn         float64\n",
              "indus      float64\n",
              "chas         int64\n",
              "nox        float64\n",
              "rm         float64\n",
              "age         object\n",
              "dis        float64\n",
              "rad          int64\n",
              "tax         object\n",
              "ptratio    float64\n",
              "b          float64\n",
              "lstat      float64\n",
              "medv        object\n",
              "dtype: object"
            ]
          },
          "metadata": {},
          "execution_count": 14
        }
      ]
    },
    {
      "cell_type": "markdown",
      "source": [
        "# **#afficher les problèmes potentiels de mon dataset**"
      ],
      "metadata": {
        "id": "-7gzDcltwa7k"
      }
    },
    {
      "cell_type": "code",
      "source": [
        "#afficher les problèùes potentiels de mon dataset\n",
        "\n",
        "# Charger le jeu de données\n",
        "url = 'https://raw.githubusercontent.com/chtolo/data-mining/main/boston-housing.csv'\n",
        "df = pd.read_csv(url)\n",
        "\n",
        "# Vérifier les données manquantes\n",
        "valeurs_manquantes = df.isnull().sum()\n",
        "print(\"Valeurs manquantes :\\n\", valeurs_manquantes)\n",
        "\n",
        "# Vérifier les types de données\n",
        "types_de_donnees = df.dtypes\n",
        "print(\"\\nTypes de données :\\n\", types_de_donnees)\n",
        "\n",
        "# Vérifier les statistiques descriptives\n",
        "statistiques_descriptives = df.describe()\n",
        "print(\"\\nStatistiques descriptives :\\n\", statistiques_descriptives)\n",
        "\n",
        "# Vérifier les duplicatas\n",
        "duplicatas = df.duplicated().sum()\n",
        "print(\"\\nNombre de duplicatas :\", duplicatas)\n"
      ],
      "metadata": {
        "colab": {
          "base_uri": "https://localhost:8080/"
        },
        "id": "adb1LOnZwjm1",
        "outputId": "84b9726a-2973-4121-c6ac-dc3a8cbbe198"
      },
      "execution_count": 15,
      "outputs": [
        {
          "output_type": "stream",
          "name": "stdout",
          "text": [
            "Valeurs manquantes :\n",
            " crim       0\n",
            "zn         0\n",
            "indus      0\n",
            "chas       0\n",
            "nox        0\n",
            "rm         0\n",
            "age        0\n",
            "dis        0\n",
            "rad        0\n",
            "tax        0\n",
            "ptratio    0\n",
            "b          0\n",
            "lstat      0\n",
            "medv       0\n",
            "dtype: int64\n",
            "\n",
            "Types de données :\n",
            " crim       float64\n",
            "zn         float64\n",
            "indus      float64\n",
            "chas         int64\n",
            "nox        float64\n",
            "rm         float64\n",
            "age         object\n",
            "dis        float64\n",
            "rad          int64\n",
            "tax         object\n",
            "ptratio    float64\n",
            "b          float64\n",
            "lstat      float64\n",
            "medv        object\n",
            "dtype: object\n",
            "\n",
            "Statistiques descriptives :\n",
            "              crim          zn       indus        chas         nox          rm  \\\n",
            "count  512.000000  512.000000  512.000000  512.000000  512.000000  512.000000   \n",
            "mean     3.576041   11.300781   11.067246    0.068359    0.554343    6.282598   \n",
            "std      8.557940   23.210543    6.857233    0.252608    0.115286    0.702628   \n",
            "min      0.006320    0.000000    0.460000    0.000000    0.385000    3.561000   \n",
            "25%      0.081437    0.000000    5.130000    0.000000    0.449000    5.883000   \n",
            "50%      0.256510    0.000000    9.125000    0.000000    0.538000    6.208500   \n",
            "75%      3.594927   12.500000   18.100000    0.000000    0.624000    6.620500   \n",
            "max     88.976200  100.000000   27.740000    1.000000    0.871000    8.780000   \n",
            "\n",
            "              dis         rad     ptratio           b       lstat  \n",
            "count  512.000000  512.000000  512.000000  512.000000  512.000000  \n",
            "mean     3.800631    9.470703   18.458594  356.513145   12.603145  \n",
            "std      2.095786    8.687391    2.170033   90.957447    7.122803  \n",
            "min      1.129600    1.000000   12.600000    0.320000    1.730000  \n",
            "25%      2.102875    4.000000   17.375000  375.085000    6.915000  \n",
            "50%      3.267450    5.000000   19.050000  391.440000   11.360000  \n",
            "75%      5.141475   24.000000   20.200000  396.250000   16.910000  \n",
            "max     12.126500   24.000000   22.000000  396.900000   37.970000  \n",
            "\n",
            "Nombre de duplicatas : 6\n"
          ]
        }
      ]
    },
    {
      "cell_type": "markdown",
      "source": [
        "\n",
        "**suppression des lignes duppliqés**\n",
        "---\n",
        "\n"
      ],
      "metadata": {
        "id": "7x2VSnVEy_ni"
      }
    },
    {
      "cell_type": "code",
      "source": [
        "# Supprimer les duplicatas\n",
        "boston_housing.drop_duplicates(inplace=True)"
      ],
      "metadata": {
        "id": "__jG30gLzszC"
      },
      "execution_count": 31,
      "outputs": []
    },
    {
      "cell_type": "code",
      "source": [
        "# Supprimer les duplicatas\n",
        "boston_housing.drop_duplicates(inplace=True)\n",
        "\n",
        "# Afficher les premières lignes du DataFrame après suppression des duplicatas\n",
        "print(boston_housing.head())\n",
        "\n",
        "# Ou afficher le DataFrame entier\n",
        "print(boston_housing)\n"
      ],
      "metadata": {
        "colab": {
          "base_uri": "https://localhost:8080/"
        },
        "id": "gRthOwdVz2NO",
        "outputId": "6b1b0ad3-1512-4a77-8d67-15e554b7753c"
      },
      "execution_count": 32,
      "outputs": [
        {
          "output_type": "stream",
          "name": "stdout",
          "text": [
            "      crim    zn  indus  chas    nox     rm   age     dis  rad  tax  ptratio  \\\n",
            "0  0.00632  18.0   2.31     0  0.538  6.575  none  4.0900    1  ***     15.3   \n",
            "3  0.02731   0.0   7.07     0  0.469  6.421  1000  4.9671    2  242     17.8   \n",
            "4  0.02729   0.0   7.07     0  0.469  7.185  61.1  4.9671    2  242     17.8   \n",
            "5  0.03237   0.0   2.18     0  0.458  6.998  45.8  6.0622    3  ***     18.7   \n",
            "6  0.06905   0.0   2.18     0  0.458  7.147  none  6.0622    3  222     18.7   \n",
            "\n",
            "        b  lstat       medv  \n",
            "0  396.90   4.98  22.544882  \n",
            "3  396.90   9.14  22.544882  \n",
            "4  392.83   4.03  34.700000  \n",
            "5  394.63   2.94  33.400000  \n",
            "6  396.90   5.33  36.200000  \n",
            "        crim    zn  indus  chas    nox     rm   age     dis  rad  tax  \\\n",
            "0    0.00632  18.0   2.31     0  0.538  6.575  none  4.0900    1  ***   \n",
            "3    0.02731   0.0   7.07     0  0.469  6.421  1000  4.9671    2  242   \n",
            "4    0.02729   0.0   7.07     0  0.469  7.185  61.1  4.9671    2  242   \n",
            "5    0.03237   0.0   2.18     0  0.458  6.998  45.8  6.0622    3  ***   \n",
            "6    0.06905   0.0   2.18     0  0.458  7.147  none  6.0622    3  222   \n",
            "..       ...   ...    ...   ...    ...    ...   ...     ...  ...  ...   \n",
            "507  0.06263   0.0  11.93     0  0.573  6.593  69.1  2.4786    1  273   \n",
            "508  0.04527   0.0  11.93     0  0.573  6.120  76.7  2.2875    1  273   \n",
            "509  0.06076   0.0  11.93     0  0.573  6.976  91.0  2.1675    1  273   \n",
            "510  0.10959   0.0  11.93     0  0.573  6.794  89.3  2.3889    1  273   \n",
            "511  0.04741   0.0  11.93     0  0.573  6.030  80.8  2.5050    1  273   \n",
            "\n",
            "     ptratio       b  lstat       medv  \n",
            "0       15.3  396.90   4.98  22.544882  \n",
            "3       17.8  396.90   9.14  22.544882  \n",
            "4       17.8  392.83   4.03  34.700000  \n",
            "5       18.7  394.63   2.94  33.400000  \n",
            "6       18.7  396.90   5.33  36.200000  \n",
            "..       ...     ...    ...        ...  \n",
            "507     21.0  391.99   9.67  22.400000  \n",
            "508     21.0  396.90   9.08  20.600000  \n",
            "509     21.0  396.90   5.64  23.900000  \n",
            "510     21.0  393.45   6.48  22.000000  \n",
            "511     21.0  396.90   7.88  11.900000  \n",
            "\n",
            "[506 rows x 14 columns]\n"
          ]
        }
      ]
    },
    {
      "cell_type": "markdown",
      "source": [
        "\n",
        "# **Nettoyagede la colonne 'medv'**\n",
        "\n"
      ],
      "metadata": {
        "id": "ns4u6G7UuPMi"
      }
    },
    {
      "cell_type": "code",
      "source": [
        "# Affichage de la colonne 'medv'\n",
        "print(df['medv'])"
      ],
      "metadata": {
        "colab": {
          "base_uri": "https://localhost:8080/"
        },
        "id": "QHF6UYLFvCMX",
        "outputId": "0c5af49c-d998-4875-8d05-9dada440945e"
      },
      "execution_count": 33,
      "outputs": [
        {
          "output_type": "stream",
          "name": "stdout",
          "text": [
            "0         none\n",
            "1         none\n",
            "2         none\n",
            "3         none\n",
            "4      34.7 m$\n",
            "        ...   \n",
            "507       22.4\n",
            "508       20.6\n",
            "509       23.9\n",
            "510       22.0\n",
            "511       11.9\n",
            "Name: medv, Length: 512, dtype: object\n"
          ]
        }
      ]
    },
    {
      "cell_type": "code",
      "source": [
        "# Convertir la colonne 'medv' en type string\n",
        "boston_housing['medv'] = boston_housing['medv'].astype(str)\n",
        "\n",
        "# Extraire les valeurs numériques de la colonne 'medv' et les convertir en float\n",
        "boston_housing['medv'] = boston_housing['medv'].str.extract('(\\d+\\.?\\d*)').astype(float)\n"
      ],
      "metadata": {
        "id": "iH_d0vjUxdNs"
      },
      "execution_count": 34,
      "outputs": []
    },
    {
      "cell_type": "code",
      "source": [
        "# Calculer la moyenne des valeurs non NaN dans la colonne 'medv'\n",
        "mean_medv = boston_housing['medv'].mean()"
      ],
      "metadata": {
        "id": "UKwVxsilx9GT"
      },
      "execution_count": 35,
      "outputs": []
    },
    {
      "cell_type": "code",
      "source": [
        "# Remplacer les valeurs NaN par la moyenne des valeurs non NaN\n",
        "boston_housing['medv'].fillna(mean_medv, inplace=True)\n"
      ],
      "metadata": {
        "id": "IoGVqBNsyDRz"
      },
      "execution_count": 36,
      "outputs": []
    },
    {
      "cell_type": "code",
      "source": [
        "# Afficher la colonne 'medv' après nettoyage\n",
        "print(boston_housing['medv'])\n"
      ],
      "metadata": {
        "colab": {
          "base_uri": "https://localhost:8080/"
        },
        "id": "2S3KcOtGyH_H",
        "outputId": "bd282559-eb59-4fc1-9dee-33c10515211e"
      },
      "execution_count": 37,
      "outputs": [
        {
          "output_type": "stream",
          "name": "stdout",
          "text": [
            "0      22.544882\n",
            "3      22.544882\n",
            "4      34.700000\n",
            "5      33.400000\n",
            "6      36.200000\n",
            "         ...    \n",
            "507    22.400000\n",
            "508    20.600000\n",
            "509    23.900000\n",
            "510    22.000000\n",
            "511    11.900000\n",
            "Name: medv, Length: 506, dtype: float64\n"
          ]
        }
      ]
    },
    {
      "cell_type": "markdown",
      "source": [
        "# **nettoyage de colonne tax**"
      ],
      "metadata": {
        "id": "X6sJAnqJ0PUa"
      }
    },
    {
      "cell_type": "code",
      "source": [
        "# Affichage de la colonne 'tax'\n",
        "print(df['tax'])"
      ],
      "metadata": {
        "colab": {
          "base_uri": "https://localhost:8080/"
        },
        "id": "C15gNhrqy7kl",
        "outputId": "ab620796-2596-43e7-c0d0-a6308cefea1f"
      },
      "execution_count": 39,
      "outputs": [
        {
          "output_type": "stream",
          "name": "stdout",
          "text": [
            "0      ***\n",
            "1      ***\n",
            "2      ***\n",
            "3      242\n",
            "4      242\n",
            "      ... \n",
            "507    273\n",
            "508    273\n",
            "509    273\n",
            "510    273\n",
            "511    273\n",
            "Name: tax, Length: 512, dtype: object\n"
          ]
        }
      ]
    },
    {
      "cell_type": "code",
      "source": [
        "# Remplacer les valeurs \"***\" par NaN\n",
        "boston_housing['tax'] = boston_housing['tax'].replace('***', np.nan)"
      ],
      "metadata": {
        "id": "tAz09TqZ1RJY"
      },
      "execution_count": 40,
      "outputs": []
    },
    {
      "cell_type": "code",
      "source": [
        "# Convertir la colonne 'tax' en nombres flottants\n",
        "boston_housing['tax'] = pd.to_numeric(boston_housing['tax'])"
      ],
      "metadata": {
        "id": "PT2cs-AR1SzJ"
      },
      "execution_count": 41,
      "outputs": []
    },
    {
      "cell_type": "code",
      "source": [
        "# Calculer la moyenne de la colonne 'tax'\n",
        "mean_tax = boston_housing['tax'].mean()"
      ],
      "metadata": {
        "id": "TH1kHRRn1Zrq"
      },
      "execution_count": 42,
      "outputs": []
    },
    {
      "cell_type": "code",
      "source": [
        "# Remplacer les NaN par la moyenne de la colonne 'tax'\n",
        "boston_housing['tax'].fillna(mean_tax, inplace=True)"
      ],
      "metadata": {
        "id": "02McWCrp1eHQ"
      },
      "execution_count": 43,
      "outputs": []
    },
    {
      "cell_type": "code",
      "source": [
        "# Afficher la colonne 'tax' après nettoyage\n",
        "print(boston_housing['tax'])"
      ],
      "metadata": {
        "colab": {
          "base_uri": "https://localhost:8080/"
        },
        "id": "CeRgYf-F1hKr",
        "outputId": "ed0c8e9c-cdc4-482b-effb-69ba39edee12"
      },
      "execution_count": 44,
      "outputs": [
        {
          "output_type": "stream",
          "name": "stdout",
          "text": [
            "0      409.219124\n",
            "3      242.000000\n",
            "4      242.000000\n",
            "5      409.219124\n",
            "6      222.000000\n",
            "          ...    \n",
            "507    273.000000\n",
            "508    273.000000\n",
            "509    273.000000\n",
            "510    273.000000\n",
            "511    273.000000\n",
            "Name: tax, Length: 506, dtype: float64\n"
          ]
        }
      ]
    },
    {
      "cell_type": "markdown",
      "source": [
        "# **nettoyage de colonne age**"
      ],
      "metadata": {
        "id": "l_CVgY5k10xM"
      }
    },
    {
      "cell_type": "code",
      "source": [
        "# Afficher la colonne 'age'\n",
        "print(boston_housing['age'])"
      ],
      "metadata": {
        "colab": {
          "base_uri": "https://localhost:8080/"
        },
        "id": "uXaPo5XR2HM0",
        "outputId": "4c75ad7d-5d22-4baa-d605-902fe60ced9e"
      },
      "execution_count": 45,
      "outputs": [
        {
          "output_type": "stream",
          "name": "stdout",
          "text": [
            "0      none\n",
            "3      1000\n",
            "4      61.1\n",
            "5      45.8\n",
            "6      none\n",
            "       ... \n",
            "507    69.1\n",
            "508    76.7\n",
            "509    91.0\n",
            "510    89.3\n",
            "511    80.8\n",
            "Name: age, Length: 506, dtype: object\n"
          ]
        }
      ]
    },
    {
      "cell_type": "code",
      "source": [
        "\n",
        "# Définir un seuil pour l'âge maximal acceptable\n",
        "age_max = 120  # Supposons que 120 soit un âge maximal raisonnable"
      ],
      "metadata": {
        "id": "zAlFL_Z22UlY"
      },
      "execution_count": 46,
      "outputs": []
    },
    {
      "cell_type": "code",
      "source": [
        "# Convertir la colonne 'age' en nombres flottants\n",
        "boston_housing['age'] = pd.to_numeric(boston_housing['age'], errors='coerce')\n",
        "\n",
        "# Définir un seuil pour l'âge maximal acceptable\n",
        "age_max = 120  # Supposons que 120 soit un âge maximal raisonnable\n",
        "\n",
        "# Remplacer les valeurs aberrantes par NaN\n",
        "boston_housing.loc[boston_housing['age'] > age_max, 'age'] = np.nan\n"
      ],
      "metadata": {
        "id": "VAWZU5xX2YVv"
      },
      "execution_count": 48,
      "outputs": []
    },
    {
      "cell_type": "code",
      "source": [
        "# Calculer la moyenne des âges (en excluant les valeurs NaN)\n",
        "mean_age = boston_housing['age'].mean()"
      ],
      "metadata": {
        "id": "DjDJw2KE2tAD"
      },
      "execution_count": 49,
      "outputs": []
    },
    {
      "cell_type": "code",
      "source": [
        "# Remplacer les valeurs NaN par la moyenne des âges\n",
        "boston_housing['age'].fillna(mean_age, inplace=True)\n"
      ],
      "metadata": {
        "id": "wYNdeqVF2wsk"
      },
      "execution_count": 50,
      "outputs": []
    },
    {
      "cell_type": "code",
      "source": [
        "# Afficher la colonne 'age'  après traitement\n",
        "print(boston_housing['age'])"
      ],
      "metadata": {
        "colab": {
          "base_uri": "https://localhost:8080/"
        },
        "id": "w1HGezxT22Ac",
        "outputId": "424f159c-bdb9-4507-f457-e8d4a80ddc0f"
      },
      "execution_count": 51,
      "outputs": [
        {
          "output_type": "stream",
          "name": "stdout",
          "text": [
            "0      68.589662\n",
            "3      68.589662\n",
            "4      61.100000\n",
            "5      45.800000\n",
            "6      68.589662\n",
            "         ...    \n",
            "507    69.100000\n",
            "508    76.700000\n",
            "509    91.000000\n",
            "510    89.300000\n",
            "511    80.800000\n",
            "Name: age, Length: 506, dtype: float64\n"
          ]
        }
      ]
    },
    {
      "cell_type": "markdown",
      "source": [
        "# **dataframe après basic cleaning & preparation**"
      ],
      "metadata": {
        "id": "mg6Tx-ys3Bk3"
      }
    },
    {
      "cell_type": "code",
      "source": [
        "\n",
        "# Afficher le DataFrame après le nettoyage et la suppression des duplicatas\n",
        "print(\"\\nDataFrame après nettoyage et suppression des duplicatas :\\n\", boston_housing)"
      ],
      "metadata": {
        "colab": {
          "base_uri": "https://localhost:8080/"
        },
        "id": "7YOdiyvM3bIZ",
        "outputId": "3322147a-1b4d-4b6f-d8b9-6f92dc08377a"
      },
      "execution_count": 52,
      "outputs": [
        {
          "output_type": "stream",
          "name": "stdout",
          "text": [
            "\n",
            "DataFrame après nettoyage et suppression des duplicatas :\n",
            "         crim    zn  indus  chas    nox     rm        age     dis  rad  \\\n",
            "0    0.00632  18.0   2.31     0  0.538  6.575  68.589662  4.0900    1   \n",
            "3    0.02731   0.0   7.07     0  0.469  6.421  68.589662  4.9671    2   \n",
            "4    0.02729   0.0   7.07     0  0.469  7.185  61.100000  4.9671    2   \n",
            "5    0.03237   0.0   2.18     0  0.458  6.998  45.800000  6.0622    3   \n",
            "6    0.06905   0.0   2.18     0  0.458  7.147  68.589662  6.0622    3   \n",
            "..       ...   ...    ...   ...    ...    ...        ...     ...  ...   \n",
            "507  0.06263   0.0  11.93     0  0.573  6.593  69.100000  2.4786    1   \n",
            "508  0.04527   0.0  11.93     0  0.573  6.120  76.700000  2.2875    1   \n",
            "509  0.06076   0.0  11.93     0  0.573  6.976  91.000000  2.1675    1   \n",
            "510  0.10959   0.0  11.93     0  0.573  6.794  89.300000  2.3889    1   \n",
            "511  0.04741   0.0  11.93     0  0.573  6.030  80.800000  2.5050    1   \n",
            "\n",
            "            tax  ptratio       b  lstat       medv  \n",
            "0    409.219124     15.3  396.90   4.98  22.544882  \n",
            "3    242.000000     17.8  396.90   9.14  22.544882  \n",
            "4    242.000000     17.8  392.83   4.03  34.700000  \n",
            "5    409.219124     18.7  394.63   2.94  33.400000  \n",
            "6    222.000000     18.7  396.90   5.33  36.200000  \n",
            "..          ...      ...     ...    ...        ...  \n",
            "507  273.000000     21.0  391.99   9.67  22.400000  \n",
            "508  273.000000     21.0  396.90   9.08  20.600000  \n",
            "509  273.000000     21.0  396.90   5.64  23.900000  \n",
            "510  273.000000     21.0  393.45   6.48  22.000000  \n",
            "511  273.000000     21.0  396.90   7.88  11.900000  \n",
            "\n",
            "[506 rows x 14 columns]\n"
          ]
        }
      ]
    }
  ]
}